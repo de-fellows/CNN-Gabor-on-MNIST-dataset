{
 "cells": [
  {
   "cell_type": "markdown",
   "metadata": {
    "id": "92B9D6dhSH2X"
   },
   "source": [
    "# Creating and Testing a Gabor Kernel Classifier and Convolutional Neural Network on a Subset of the MNIST Dataset"
   ]
  },
  {
   "cell_type": "markdown",
   "metadata": {},
   "source": [
    "## Imports"
   ]
  },
  {
   "cell_type": "code",
   "execution_count": 15,
   "metadata": {},
   "outputs": [
    {
     "name": "stdout",
     "output_type": "stream",
     "text": [
      "Requirement already satisfied: fastai in c:\\anaconda\\lib\\site-packages (2.7.12)\n",
      "Requirement already satisfied: scikit-learn in c:\\anaconda\\lib\\site-packages (from fastai) (1.0.2)\n",
      "Requirement already satisfied: pip in c:\\anaconda\\lib\\site-packages (from fastai) (21.2.4)\n",
      "Requirement already satisfied: fastdownload<2,>=0.0.5 in c:\\anaconda\\lib\\site-packages (from fastai) (0.0.7)\n",
      "Requirement already satisfied: pyyaml in c:\\anaconda\\lib\\site-packages (from fastai) (6.0)\n",
      "Requirement already satisfied: packaging in c:\\anaconda\\lib\\site-packages (from fastai) (21.3)\n",
      "Requirement already satisfied: pandas in c:\\anaconda\\lib\\site-packages (from fastai) (1.4.2)\n",
      "Requirement already satisfied: fastcore<1.6,>=1.5.29 in c:\\anaconda\\lib\\site-packages (from fastai) (1.5.29)\n",
      "Requirement already satisfied: torchvision>=0.8.2 in c:\\anaconda\\lib\\site-packages (from fastai) (0.15.2)\n",
      "Requirement already satisfied: scipy in c:\\anaconda\\lib\\site-packages (from fastai) (1.7.3)\n",
      "Requirement already satisfied: torch<2.1,>=1.7 in c:\\anaconda\\lib\\site-packages (from fastai) (2.0.1)\n",
      "Requirement already satisfied: matplotlib in c:\\anaconda\\lib\\site-packages (from fastai) (3.5.1)\n",
      "Requirement already satisfied: requests in c:\\anaconda\\lib\\site-packages (from fastai) (2.27.1)\n",
      "Requirement already satisfied: spacy<4 in c:\\anaconda\\lib\\site-packages (from fastai) (3.5.3)\n",
      "Requirement already satisfied: fastprogress>=0.2.4 in c:\\anaconda\\lib\\site-packages (from fastai) (1.0.3)\n",
      "Requirement already satisfied: pillow>6.0.0 in c:\\anaconda\\lib\\site-packages (from fastai) (9.0.1)\n",
      "Requirement already satisfied: murmurhash<1.1.0,>=0.28.0 in c:\\anaconda\\lib\\site-packages (from spacy<4->fastai) (1.0.9)\n",
      "Requirement already satisfied: srsly<3.0.0,>=2.4.3 in c:\\anaconda\\lib\\site-packages (from spacy<4->fastai) (2.4.6)\n",
      "Requirement already satisfied: preshed<3.1.0,>=3.0.2 in c:\\anaconda\\lib\\site-packages (from spacy<4->fastai) (3.0.8)\n",
      "Requirement already satisfied: wasabi<1.2.0,>=0.9.1 in c:\\anaconda\\lib\\site-packages (from spacy<4->fastai) (1.1.2)\n",
      "Requirement already satisfied: setuptools in c:\\anaconda\\lib\\site-packages (from spacy<4->fastai) (61.2.0)\n",
      "Requirement already satisfied: cymem<2.1.0,>=2.0.2 in c:\\anaconda\\lib\\site-packages (from spacy<4->fastai) (2.0.7)\n",
      "Requirement already satisfied: thinc<8.2.0,>=8.1.8 in c:\\anaconda\\lib\\site-packages (from spacy<4->fastai) (8.1.10)\n",
      "Requirement already satisfied: typer<0.8.0,>=0.3.0 in c:\\anaconda\\lib\\site-packages (from spacy<4->fastai) (0.7.0)\n",
      "Requirement already satisfied: smart-open<7.0.0,>=5.2.1 in c:\\anaconda\\lib\\site-packages (from spacy<4->fastai) (6.3.0)\n",
      "Requirement already satisfied: numpy>=1.15.0 in c:\\anaconda\\lib\\site-packages (from spacy<4->fastai) (1.22.4)\n",
      "Requirement already satisfied: pydantic!=1.8,!=1.8.1,<1.11.0,>=1.7.4 in c:\\anaconda\\lib\\site-packages (from spacy<4->fastai) (1.10.9)\n",
      "Requirement already satisfied: spacy-loggers<2.0.0,>=1.0.0 in c:\\anaconda\\lib\\site-packages (from spacy<4->fastai) (1.0.4)\n",
      "Requirement already satisfied: catalogue<2.1.0,>=2.0.6 in c:\\anaconda\\lib\\site-packages (from spacy<4->fastai) (2.0.8)\n",
      "Requirement already satisfied: langcodes<4.0.0,>=3.2.0 in c:\\anaconda\\lib\\site-packages (from spacy<4->fastai) (3.3.0)\n",
      "Requirement already satisfied: spacy-legacy<3.1.0,>=3.0.11 in c:\\anaconda\\lib\\site-packages (from spacy<4->fastai) (3.0.12)\n",
      "Requirement already satisfied: pathy>=0.10.0 in c:\\anaconda\\lib\\site-packages (from spacy<4->fastai) (0.10.2)\n",
      "Requirement already satisfied: jinja2 in c:\\anaconda\\lib\\site-packages (from spacy<4->fastai) (2.11.3)\n",
      "Requirement already satisfied: tqdm<5.0.0,>=4.38.0 in c:\\anaconda\\lib\\site-packages (from spacy<4->fastai) (4.64.0)\n",
      "Requirement already satisfied: pyparsing!=3.0.5,>=2.0.2 in c:\\anaconda\\lib\\site-packages (from packaging->fastai) (3.0.4)\n",
      "Requirement already satisfied: typing-extensions>=4.2.0 in c:\\anaconda\\lib\\site-packages (from pydantic!=1.8,!=1.8.1,<1.11.0,>=1.7.4->spacy<4->fastai) (4.6.3)\n",
      "Requirement already satisfied: certifi>=2017.4.17 in c:\\anaconda\\lib\\site-packages (from requests->fastai) (2021.10.8)\n",
      "Requirement already satisfied: idna<4,>=2.5 in c:\\anaconda\\lib\\site-packages (from requests->fastai) (3.3)\n",
      "Requirement already satisfied: charset-normalizer~=2.0.0 in c:\\anaconda\\lib\\site-packages (from requests->fastai) (2.0.4)\n",
      "Requirement already satisfied: urllib3<1.27,>=1.21.1 in c:\\anaconda\\lib\\site-packages (from requests->fastai) (1.26.9)\n",
      "Requirement already satisfied: blis<0.8.0,>=0.7.8 in c:\\anaconda\\lib\\site-packages (from thinc<8.2.0,>=8.1.8->spacy<4->fastai) (0.7.9)\n",
      "Requirement already satisfied: confection<1.0.0,>=0.0.1 in c:\\anaconda\\lib\\site-packages (from thinc<8.2.0,>=8.1.8->spacy<4->fastai) (0.0.4)\n",
      "Requirement already satisfied: sympy in c:\\anaconda\\lib\\site-packages (from torch<2.1,>=1.7->fastai) (1.10.1)\n",
      "Requirement already satisfied: filelock in c:\\anaconda\\lib\\site-packages (from torch<2.1,>=1.7->fastai) (3.6.0)\n",
      "Requirement already satisfied: networkx in c:\\anaconda\\lib\\site-packages (from torch<2.1,>=1.7->fastai) (2.7.1)\n",
      "Requirement already satisfied: colorama in c:\\anaconda\\lib\\site-packages (from tqdm<5.0.0,>=4.38.0->spacy<4->fastai) (0.4.6)\n",
      "Requirement already satisfied: click<9.0.0,>=7.1.1 in c:\\anaconda\\lib\\site-packages (from typer<0.8.0,>=0.3.0->spacy<4->fastai) (8.0.4)\n",
      "Requirement already satisfied: MarkupSafe>=0.23 in c:\\anaconda\\lib\\site-packages (from jinja2->spacy<4->fastai) (2.0.1)\n",
      "Requirement already satisfied: python-dateutil>=2.7 in c:\\anaconda\\lib\\site-packages (from matplotlib->fastai) (2.8.2)\n",
      "Requirement already satisfied: kiwisolver>=1.0.1 in c:\\anaconda\\lib\\site-packages (from matplotlib->fastai) (1.3.2)\n",
      "Requirement already satisfied: fonttools>=4.22.0 in c:\\anaconda\\lib\\site-packages (from matplotlib->fastai) (4.25.0)\n",
      "Requirement already satisfied: cycler>=0.10 in c:\\anaconda\\lib\\site-packages (from matplotlib->fastai) (0.11.0)\n",
      "Requirement already satisfied: six>=1.5 in c:\\anaconda\\lib\\site-packages (from python-dateutil>=2.7->matplotlib->fastai) (1.16.0)\n",
      "Requirement already satisfied: pytz>=2020.1 in c:\\anaconda\\lib\\site-packages (from pandas->fastai) (2021.3)\n",
      "Requirement already satisfied: joblib>=0.11 in c:\\anaconda\\lib\\site-packages (from scikit-learn->fastai) (1.1.0)\n",
      "Requirement already satisfied: threadpoolctl>=2.0.0 in c:\\anaconda\\lib\\site-packages (from scikit-learn->fastai) (2.2.0)\n",
      "Requirement already satisfied: mpmath>=0.19 in c:\\anaconda\\lib\\site-packages (from sympy->torch<2.1,>=1.7->fastai) (1.2.1)\n"
     ]
    }
   ],
   "source": [
    "!pip install fastai"
   ]
  },
  {
   "cell_type": "code",
   "execution_count": 16,
   "metadata": {
    "executionInfo": {
     "elapsed": 251,
     "status": "ok",
     "timestamp": 1687641902469,
     "user": {
      "displayName": "Ian Washington",
      "userId": "14807681024378491500"
     },
     "user_tz": 360
    },
    "id": "MCZOdGNnj4Fm"
   },
   "outputs": [],
   "source": [
    "#imports\n",
    "from fastai.vision.all import *\n",
    "from keras.datasets import mnist #handwritten digit dataset\n",
    "\n",
    "import numpy as np\n",
    "import pandas as pd\n",
    "import sklearn\n",
    "from scipy import ndimage as ndi #convolution method\n",
    "from skimage.filters import gabor_kernel\n",
    "from sklearn.ensemble import RandomForestClassifier #RF classifier for gabor features\n",
    "from sklearn import metrics\n",
    "from sklearn.metrics import confusion_matrix, ConfusionMatrixDisplay"
   ]
  },
  {
   "cell_type": "markdown",
   "metadata": {
    "id": "8xeiz_F3PiPP"
   },
   "source": [
    "## Gabor Kernel Image Classifier"
   ]
  },
  {
   "cell_type": "code",
   "execution_count": 17,
   "metadata": {
    "executionInfo": {
     "elapsed": 325,
     "status": "ok",
     "timestamp": 1687641903356,
     "user": {
      "displayName": "Ian Washington",
      "userId": "14807681024378491500"
     },
     "user_tz": 360
    },
    "id": "S7P_z9uflSPu"
   },
   "outputs": [],
   "source": [
    "#load images into proper numpy arrays\n",
    "(train_X, train_y), (test_X, test_y) = mnist.load_data()\n",
    "\n",
    "#take a subset of the dataset, as 60000 images takes too long to train\n",
    "#for this algorithm, 1000 training images and 200 testing images are used\n",
    "train_X = train_X[0:1000,:,:]\n",
    "test_X = test_X[0:200,:,:]\n",
    "train_y = train_y[0:1000]\n",
    "test_y = test_y[0:200]\n",
    "\n",
    "#normalize pixel values\n",
    "train_X = train_X / 255.0\n",
    "test_X = test_X / 255.0"
   ]
  },
  {
   "cell_type": "code",
   "execution_count": 18,
   "metadata": {
    "executionInfo": {
     "elapsed": 5,
     "status": "ok",
     "timestamp": 1687641903357,
     "user": {
      "displayName": "Ian Washington",
      "userId": "14807681024378491500"
     },
     "user_tz": 360
    },
    "id": "voWmOv8No49f"
   },
   "outputs": [],
   "source": [
    "#create function to extract features using Gabor kernels\n",
    "def get_feats(train_X):\n",
    "\n",
    "    #dataset containing all extracted features from ALL images\n",
    "    feature_dataset = pd.DataFrame()\n",
    "\n",
    "    num_x = train_X.shape[0]\n",
    "\n",
    "    #loop through each image\n",
    "    for x in range(num_x):\n",
    "\n",
    "        #dataset containing features for a SINGLE image\n",
    "        x_features = pd.DataFrame()\n",
    "        x_img = train_X[x,:,:]\n",
    "\n",
    "        #add the original image as the first feature\n",
    "        og_pixel_values = x_img.reshape(-1)\n",
    "        x_features['og_pixel_values'] = og_pixel_values\n",
    "\n",
    "        kernels = []\n",
    "        counter = 1\n",
    "        #loop through each gabor kernel\n",
    "        for theta in (0, np.pi/2, np.pi, (3/2)*np.pi):\n",
    "            for lam in (0,1,2):\n",
    "                for sigma in (0.25, 0.5, 1):\n",
    "\n",
    "                    #define gabor kernel\n",
    "                    gabor_k = gabor_kernel(frequency=lam, theta=theta, sigma_x=sigma, sigma_y=sigma)\n",
    "\n",
    "                    #take the real part of the gabor function output\n",
    "                    gabor_k = np.real(gabor_k)\n",
    "                    kernels.append(gabor_k)\n",
    "\n",
    "                    #convolve image with the current gabor kernel\n",
    "                    x_filtered = ndi.convolve(x_img, gabor_k, mode='nearest')\n",
    "                    x_filtered = x_filtered.reshape(-1)\n",
    "\n",
    "                    #add newest feature to the dataset containing features for that specific image\n",
    "                    x_features[f\"Gabor {counter}\"] = x_filtered\n",
    "\n",
    "                    counter += 1\n",
    "\n",
    "        #add the dataset of features of the CURRENT image to ...\n",
    "        #the datset of features of ALL images\n",
    "        feature_dataset = pd.concat([feature_dataset, x_features])\n",
    "    return feature_dataset"
   ]
  },
  {
   "cell_type": "code",
   "execution_count": 19,
   "metadata": {
    "executionInfo": {
     "elapsed": 55710,
     "status": "ok",
     "timestamp": 1687641959063,
     "user": {
      "displayName": "Ian Washington",
      "userId": "14807681024378491500"
     },
     "user_tz": 360
    },
    "id": "ZLdzNYy-pnhK"
   },
   "outputs": [],
   "source": [
    "#obtain all features from the training dataset\n",
    "features = get_feats(train_X)\n",
    "\n",
    "#reshape 3-dimensional feature matrix so that it can fed into a random forest classifier\n",
    "image_features = np.expand_dims(features, axis=0)\n",
    "train_X_reshaped = np.reshape(image_features, (train_X.shape[0], -1))\n",
    "\n",
    "#define model\n",
    "model = RandomForestClassifier(n_estimators = 25, random_state = 42)\n",
    "\n",
    "#fit/train model\n",
    "model.fit(train_X_reshaped, train_y)\n",
    "\n",
    "#repeat feature extraction and reshape steps with testing images\n",
    "test_features = get_feats(test_X)\n",
    "test_features = np.expand_dims(test_features, axis=0)\n",
    "test_X_reshaped = np.reshape(test_features, (test_X.shape[0], -1))\n",
    "\n",
    "#predict the classes of the test images\n",
    "test_prediction = model.predict(test_X_reshaped)"
   ]
  },
  {
   "cell_type": "code",
   "execution_count": 20,
   "metadata": {
    "colab": {
     "base_uri": "https://localhost:8080/"
    },
    "executionInfo": {
     "elapsed": 18,
     "status": "ok",
     "timestamp": 1687641959064,
     "user": {
      "displayName": "Ian Washington",
      "userId": "14807681024378491500"
     },
     "user_tz": 360
    },
    "id": "7VJwpWib10PC",
    "outputId": "6223bf34-d4b2-4eb7-e72a-c5f4af868f6d"
   },
   "outputs": [
    {
     "name": "stdout",
     "output_type": "stream",
     "text": [
      "Gabor kernel image classifier accuracy: 0.915\n"
     ]
    }
   ],
   "source": [
    "#compute and print test accuracy\n",
    "acc = metrics.accuracy_score(test_y, test_prediction)\n",
    "print(f\"Gabor kernel image classifier accuracy: {acc}\")"
   ]
  },
  {
   "cell_type": "code",
   "execution_count": 21,
   "metadata": {
    "colab": {
     "base_uri": "https://localhost:8080/",
     "height": 457
    },
    "executionInfo": {
     "elapsed": 1045,
     "status": "ok",
     "timestamp": 1687641960094,
     "user": {
      "displayName": "Ian Washington",
      "userId": "14807681024378491500"
     },
     "user_tz": 360
    },
    "id": "CueCZxV-13Mj",
    "outputId": "8fc44eaa-45fb-484b-f215-c9e6465d5932"
   },
   "outputs": [
    {
     "data": {
      "image/png": "[encoded data removed]",
      "text/plain": [
       "<Figure size 432x288 with 2 Axes>"
      ]
     },
     "metadata": {
      "needs_background": "light"
     },
     "output_type": "display_data"
    }
   ],
   "source": [
    "#render a confusion matrix for the Gabor kernel classifier\n",
    "cm = confusion_matrix(test_y, test_prediction)\n",
    "\n",
    "disp = ConfusionMatrixDisplay(confusion_matrix=cm)\n",
    "disp.plot()\n",
    "plt.show()"
   ]
  },
  {
   "cell_type": "markdown",
   "metadata": {
    "id": "JMzZXSgBSNp6"
   },
   "source": [
    "## Convolutional Neural Network"
   ]
  },
  {
   "cell_type": "code",
   "execution_count": 27,
   "metadata": {
    "executionInfo": {
     "elapsed": 7,
     "status": "ok",
     "timestamp": 1687641967316,
     "user": {
      "displayName": "Ian Washington",
      "userId": "14807681024378491500"
     },
     "user_tz": 360
    },
    "id": "1h2adudjDK58"
   },
   "outputs": [],
   "source": [
    "path = './MNIST_sample'"
   ]
  },
  {
   "cell_type": "code",
   "execution_count": 29,
   "metadata": {
    "executionInfo": {
     "elapsed": 314,
     "status": "ok",
     "timestamp": 1687641967624,
     "user": {
      "displayName": "Ian Washington",
      "userId": "14807681024378491500"
     },
     "user_tz": 360
    },
    "id": "De7qbq8GET1S"
   },
   "outputs": [
    {
     "data": {
      "text/html": [
       "\n",
       "<style>\n",
       "    /* Turns off some styling */\n",
       "    progress {\n",
       "        /* gets rid of default border in Firefox and Opera. */\n",
       "        border: none;\n",
       "        /* Needs to be in here for Safari polyfill so background images work as expected. */\n",
       "        background-size: auto;\n",
       "    }\n",
       "    progress:not([value]), progress:not([value])::-webkit-progress-bar {\n",
       "        background: repeating-linear-gradient(45deg, #7e7e7e, #7e7e7e 10px, #5c5c5c 10px, #5c5c5c 20px);\n",
       "    }\n",
       "    .progress-bar-interrupted, .progress-bar-interrupted::-webkit-progress-bar {\n",
       "        background: #F44336;\n",
       "    }\n",
       "</style>\n"
      ],
      "text/plain": [
       "<IPython.core.display.HTML object>"
      ]
     },
     "metadata": {},
     "output_type": "display_data"
    },
    {
     "data": {
      "text/html": [
       "<table border=\"1\" class=\"dataframe\">\n",
       "  <thead>\n",
       "    <tr style=\"text-align: left;\">\n",
       "      <th>epoch</th>\n",
       "      <th>train_loss</th>\n",
       "      <th>valid_loss</th>\n",
       "      <th>accuracy</th>\n",
       "      <th>time</th>\n",
       "    </tr>\n",
       "  </thead>\n",
       "  <tbody>\n",
       "    <tr>\n",
       "      <td>0</td>\n",
       "      <td>2.479373</td>\n",
       "      <td>2.130881</td>\n",
       "      <td>0.320000</td>\n",
       "      <td>00:08</td>\n",
       "    </tr>\n",
       "  </tbody>\n",
       "</table>"
      ],
      "text/plain": [
       "<IPython.core.display.HTML object>"
      ]
     },
     "metadata": {},
     "output_type": "display_data"
    },
    {
     "data": {
      "text/html": [
       "\n",
       "<style>\n",
       "    /* Turns off some styling */\n",
       "    progress {\n",
       "        /* gets rid of default border in Firefox and Opera. */\n",
       "        border: none;\n",
       "        /* Needs to be in here for Safari polyfill so background images work as expected. */\n",
       "        background-size: auto;\n",
       "    }\n",
       "    progress:not([value]), progress:not([value])::-webkit-progress-bar {\n",
       "        background: repeating-linear-gradient(45deg, #7e7e7e, #7e7e7e 10px, #5c5c5c 10px, #5c5c5c 20px);\n",
       "    }\n",
       "    .progress-bar-interrupted, .progress-bar-interrupted::-webkit-progress-bar {\n",
       "        background: #F44336;\n",
       "    }\n",
       "</style>\n"
      ],
      "text/plain": [
       "<IPython.core.display.HTML object>"
      ]
     },
     "metadata": {},
     "output_type": "display_data"
    },
    {
     "data": {
      "text/html": [
       "<table border=\"1\" class=\"dataframe\">\n",
       "  <thead>\n",
       "    <tr style=\"text-align: left;\">\n",
       "      <th>epoch</th>\n",
       "      <th>train_loss</th>\n",
       "      <th>valid_loss</th>\n",
       "      <th>accuracy</th>\n",
       "      <th>time</th>\n",
       "    </tr>\n",
       "  </thead>\n",
       "  <tbody>\n",
       "    <tr>\n",
       "      <td>0</td>\n",
       "      <td>1.025809</td>\n",
       "      <td>1.166076</td>\n",
       "      <td>0.620000</td>\n",
       "      <td>00:14</td>\n",
       "    </tr>\n",
       "    <tr>\n",
       "      <td>1</td>\n",
       "      <td>0.725899</td>\n",
       "      <td>0.794271</td>\n",
       "      <td>0.770000</td>\n",
       "      <td>00:13</td>\n",
       "    </tr>\n",
       "    <tr>\n",
       "      <td>2</td>\n",
       "      <td>0.527175</td>\n",
       "      <td>0.489473</td>\n",
       "      <td>0.835000</td>\n",
       "      <td>00:14</td>\n",
       "    </tr>\n",
       "    <tr>\n",
       "      <td>3</td>\n",
       "      <td>0.396135</td>\n",
       "      <td>0.374917</td>\n",
       "      <td>0.895000</td>\n",
       "      <td>00:34</td>\n",
       "    </tr>\n",
       "    <tr>\n",
       "      <td>4</td>\n",
       "      <td>0.301593</td>\n",
       "      <td>0.308520</td>\n",
       "      <td>0.925000</td>\n",
       "      <td>00:15</td>\n",
       "    </tr>\n",
       "    <tr>\n",
       "      <td>5</td>\n",
       "      <td>0.253714</td>\n",
       "      <td>0.381935</td>\n",
       "      <td>0.915000</td>\n",
       "      <td>00:14</td>\n",
       "    </tr>\n",
       "    <tr>\n",
       "      <td>6</td>\n",
       "      <td>0.197935</td>\n",
       "      <td>0.290132</td>\n",
       "      <td>0.920000</td>\n",
       "      <td>00:13</td>\n",
       "    </tr>\n",
       "    <tr>\n",
       "      <td>7</td>\n",
       "      <td>0.152422</td>\n",
       "      <td>0.285283</td>\n",
       "      <td>0.930000</td>\n",
       "      <td>00:35</td>\n",
       "    </tr>\n",
       "    <tr>\n",
       "      <td>8</td>\n",
       "      <td>0.116248</td>\n",
       "      <td>0.285550</td>\n",
       "      <td>0.935000</td>\n",
       "      <td>00:15</td>\n",
       "    </tr>\n",
       "    <tr>\n",
       "      <td>9</td>\n",
       "      <td>0.089860</td>\n",
       "      <td>0.288679</td>\n",
       "      <td>0.930000</td>\n",
       "      <td>00:14</td>\n",
       "    </tr>\n",
       "  </tbody>\n",
       "</table>"
      ],
      "text/plain": [
       "<IPython.core.display.HTML object>"
      ]
     },
     "metadata": {},
     "output_type": "display_data"
    }
   ],
   "source": [
    "#set up datablock and dataloaders from image files\n",
    "#see save_MNIST_as_images.ipynb for more info\n",
    "set_seed(123,True)\n",
    "mnist_block = DataBlock(\n",
    "       blocks=(ImageBlock, CategoryBlock),\n",
    "       get_items=get_image_files,\n",
    "       splitter=GrandparentSplitter(train_name=\"train\", valid_name=\"test\"),\n",
    "       get_y=parent_label)\n",
    "\n",
    "dls = mnist_block.dataloaders(path)\n",
    "\n",
    "#train CNN\n",
    "#number of epochs and learning rate were manipulated to get a good result\n",
    "#the final accuracy is shown in the accuracy column, at the final epoch (9)\n",
    "learner = vision_learner(dls, resnet18, metrics=accuracy)\n",
    "learner.fine_tune(epochs=10,  base_lr=9e-3)"
   ]
  },
  {
   "cell_type": "code",
   "execution_count": 30,
   "metadata": {
    "colab": {
     "base_uri": "https://localhost:8080/",
     "height": 504
    },
    "executionInfo": {
     "elapsed": 3516,
     "status": "ok",
     "timestamp": 1687642033272,
     "user": {
      "displayName": "Ian Washington",
      "userId": "14807681024378491500"
     },
     "user_tz": 360
    },
    "id": "uYwtNng2PGD3",
    "outputId": "acca5b02-3356-4089-d901-b035ea8b6033"
   },
   "outputs": [
    {
     "data": {
      "text/html": [
       "\n",
       "<style>\n",
       "    /* Turns off some styling */\n",
       "    progress {\n",
       "        /* gets rid of default border in Firefox and Opera. */\n",
       "        border: none;\n",
       "        /* Needs to be in here for Safari polyfill so background images work as expected. */\n",
       "        background-size: auto;\n",
       "    }\n",
       "    progress:not([value]), progress:not([value])::-webkit-progress-bar {\n",
       "        background: repeating-linear-gradient(45deg, #7e7e7e, #7e7e7e 10px, #5c5c5c 10px, #5c5c5c 20px);\n",
       "    }\n",
       "    .progress-bar-interrupted, .progress-bar-interrupted::-webkit-progress-bar {\n",
       "        background: #F44336;\n",
       "    }\n",
       "</style>\n"
      ],
      "text/plain": [
       "<IPython.core.display.HTML object>"
      ]
     },
     "metadata": {},
     "output_type": "display_data"
    },
    {
     "data": {
      "text/html": [],
      "text/plain": [
       "<IPython.core.display.HTML object>"
      ]
     },
     "metadata": {},
     "output_type": "display_data"
    },
    {
     "data": {
      "text/html": [
       "\n",
       "<style>\n",
       "    /* Turns off some styling */\n",
       "    progress {\n",
       "        /* gets rid of default border in Firefox and Opera. */\n",
       "        border: none;\n",
       "        /* Needs to be in here for Safari polyfill so background images work as expected. */\n",
       "        background-size: auto;\n",
       "    }\n",
       "    progress:not([value]), progress:not([value])::-webkit-progress-bar {\n",
       "        background: repeating-linear-gradient(45deg, #7e7e7e, #7e7e7e 10px, #5c5c5c 10px, #5c5c5c 20px);\n",
       "    }\n",
       "    .progress-bar-interrupted, .progress-bar-interrupted::-webkit-progress-bar {\n",
       "        background: #F44336;\n",
       "    }\n",
       "</style>\n"
      ],
      "text/plain": [
       "<IPython.core.display.HTML object>"
      ]
     },
     "metadata": {},
     "output_type": "display_data"
    },
    {
     "data": {
      "text/html": [],
      "text/plain": [
       "<IPython.core.display.HTML object>"
      ]
     },
     "metadata": {},
     "output_type": "display_data"
    },
    {
     "data": {
      "image/png": "[encoded data removed]",
      "text/plain": [
       "<Figure size 432x288 with 1 Axes>"
      ]
     },
     "metadata": {
      "needs_background": "light"
     },
     "output_type": "display_data"
    }
   ],
   "source": [
    "#render a confusion matrix for the CNN\n",
    "interp = ClassificationInterpretation.from_learner(learner)\n",
    "interp.plot_confusion_matrix()"
   ]
  }
 ],
 "metadata": {
  "accelerator": "GPU",
  "colab": {
   "authorship_tag": "ABX9TyNTIWjsUp62vhJjjbZOyF+3",
   "gpuType": "T4",
   "provenance": []
  },
  "kernelspec": {
   "display_name": "Python 3 (ipykernel)",
   "language": "python",
   "name": "python3"
  },
  "language_info": {
   "codemirror_mode": {
    "name": "ipython",
    "version": 3
   },
   "file_extension": ".py",
   "mimetype": "text/x-python",
   "name": "python",
   "nbconvert_exporter": "python",
   "pygments_lexer": "ipython3",
   "version": "3.9.12"
  }
 },
 "nbformat": 4,
 "nbformat_minor": 4
}
