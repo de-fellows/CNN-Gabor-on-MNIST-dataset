{
 "cells": [
  {
   "cell_type": "markdown",
   "metadata": {},
   "source": [
    "# Save MNIST Numpy Arrays as Images for the CNN"
   ]
  },
  {
   "cell_type": "markdown",
   "metadata": {
    "id": "RrnvXM2dvLe_"
   },
   "source": [
    "## Background\n",
    "\n",
    "The original MNIST dataset from the keras library has the data in numpy array format, which is great for the Gabor filter image classifier. However, for the neural network, the fastai learners can only handle image data (not numpy arrays). Therefore, the numpy array dataset needs to be converted to jpg images. This notebook uses the PIL library to convert numpt arrays to images, and the images are sorted into respective folders to streamline the neural network setup."
   ]
  },
  {
   "cell_type": "markdown",
   "metadata": {},
   "source": [
    "## Imports"
   ]
  },
  {
   "cell_type": "code",
   "execution_count": 8,
   "metadata": {
    "executionInfo": {
     "elapsed": 423,
     "status": "ok",
     "timestamp": 1687631744941,
     "user": {
      "displayName": "Ian Washington",
      "userId": "14807681024378491500"
     },
     "user_tz": 360
    },
    "id": "0G9adEibmZDT"
   },
   "outputs": [],
   "source": [
    "from keras.datasets import mnist #handwritten digit dataset\n",
    "\n",
    "import numpy as np\n",
    "from PIL import Image as im\n",
    "import os"
   ]
  },
  {
   "cell_type": "markdown",
   "metadata": {},
   "source": [
    "## Prepare Arrays for Export"
   ]
  },
  {
   "cell_type": "code",
   "execution_count": 9,
   "metadata": {},
   "outputs": [],
   "source": [
    "#load images into proper numpy arrays\n",
    "(train_X, train_y), (test_X, test_y) = mnist.load_data()\n",
    "\n",
    "#take a subset of the dataset, as 60000 images takes too long to train\n",
    "#for this algorithm, 1000 training images and 200 testing images are used\n",
    "train_X = train_X[0:1000,:,:]\n",
    "test_X = test_X[0:200,:,:]\n",
    "train_y = train_y[0:1000]\n",
    "test_y = test_y[0:200]\n",
    "\n",
    "export_path = './MNIST_sample'"
   ]
  },
  {
   "cell_type": "markdown",
   "metadata": {},
   "source": [
    "## Export Arrays as Images"
   ]
  },
  {
   "cell_type": "code",
   "execution_count": 10,
   "metadata": {
    "executionInfo": {
     "elapsed": 8900,
     "status": "ok",
     "timestamp": 1687631770664,
     "user": {
      "displayName": "Ian Washington",
      "userId": "14807681024378491500"
     },
     "user_tz": 360
    },
    "id": "0Atizd7SoOka"
   },
   "outputs": [],
   "source": [
    "for y_idx, y in enumerate(train_y):\n",
    "    num_imgs = len(os.listdir(f\"{export_path}/train/{y}\"))\n",
    "    train_img = im.fromarray(train_X[y_idx,:,:])\n",
    "    train_img.save(f\"{export_path}/train/{y}/{num_imgs:08d}.jpg\")"
   ]
  },
  {
   "cell_type": "code",
   "execution_count": 11,
   "metadata": {
    "executionInfo": {
     "elapsed": 2901,
     "status": "ok",
     "timestamp": 1687632282049,
     "user": {
      "displayName": "Ian Washington",
      "userId": "14807681024378491500"
     },
     "user_tz": 360
    },
    "id": "xRAlDegntzGp"
   },
   "outputs": [],
   "source": [
    "for y_idx, y in enumerate(test_y):\n",
    "    num_imgs = len(os.listdir(f\"{export_path}/test/{y}\"))\n",
    "    test_img = im.fromarray(test_X[y_idx,:,:])\n",
    "    test_img.save(f\"{export_path}/test/{y}/{num_imgs:08d}.jpg\")"
   ]
  }
 ],
 "metadata": {
  "colab": {
   "authorship_tag": "ABX9TyNr1Jgk8q0QPzeONOz1LYhn",
   "provenance": []
  },
  "kernelspec": {
   "display_name": "Python 3 (ipykernel)",
   "language": "python",
   "name": "python3"
  },
  "language_info": {
   "codemirror_mode": {
    "name": "ipython",
    "version": 3
   },
   "file_extension": ".py",
   "mimetype": "text/x-python",
   "name": "python",
   "nbconvert_exporter": "python",
   "pygments_lexer": "ipython3",
   "version": "3.9.12"
  }
 },
 "nbformat": 4,
 "nbformat_minor": 4
}
